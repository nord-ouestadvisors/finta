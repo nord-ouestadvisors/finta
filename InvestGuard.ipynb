{
  "nbformat": 4,
  "nbformat_minor": 0,
  "metadata": {
    "colab": {
      "name": "InvestGuard.ipynb",
      "provenance": [],
      "collapsed_sections": [],
      "authorship_tag": "ABX9TyMXVcfmAt1Vvud2pebkHT0C",
      "include_colab_link": true
    },
    "kernelspec": {
      "name": "python3",
      "display_name": "Python 3"
    },
    "language_info": {
      "name": "python"
    }
  },
  "cells": [
    {
      "cell_type": "markdown",
      "metadata": {
        "id": "view-in-github",
        "colab_type": "text"
      },
      "source": [
        "<a href=\"https://colab.research.google.com/github/nord-ouestadvisors/finta/blob/master/InvestGuard.ipynb\" target=\"_parent\"><img src=\"https://colab.research.google.com/assets/colab-badge.svg\" alt=\"Open In Colab\"/></a>"
      ]
    },
    {
      "cell_type": "code",
      "metadata": {
        "id": "L0sF3apfTpXw"
      },
      "source": [
        "import pandas as pd\n",
        "import numpy as np\n",
        "import matplotlib.pyplot as plt\n",
        "import datetime"
      ],
      "execution_count": 2,
      "outputs": []
    },
    {
      "cell_type": "code",
      "metadata": {
        "id": "Xuo-aQFvWZoW"
      },
      "source": [
        "trnx_url = 'https://raw.githubusercontent.com/Nord-ouest-Advisors/InvestGuard/main/data/SampleTransactions.csv?token=ATIZFFUXOULHEXVCG5VTDK3AYTMX4'\n",
        "prices_url = 'https://raw.githubusercontent.com/Nord-ouest-Advisors/InvestGuard/main/data/Prices.csv?token=ATIZFFRCZCTBXBLXDKUQXTTAYTM2E'\n",
        "info_url = 'https://raw.githubusercontent.com/Nord-ouest-Advisors/InvestGuard/main/data/FundsInfo.csv'"
      ],
      "execution_count": 3,
      "outputs": []
    },
    {
      "cell_type": "code",
      "metadata": {
        "id": "0BYs-sos8Wq3"
      },
      "source": [
        "def get_transactions(url):\n",
        "    trnx = pd.read_csv(url)\n",
        "    trnx['InstructionDate'] = pd.to_datetime(trnx['InstructionDate'])\n",
        "    trnx.sort_values(by=['FundPortfolio','InstructionDate'], inplace=True)\n",
        "    return trnx\n",
        "\n",
        "def get_prices(url):\n",
        "    prices = pd.read_csv(url)\n",
        "    prices['Date'] = pd.to_datetime(prices['Date'])\n",
        "    prices.sort_values(by=['FundISIN', 'Date'], inplace=True)\n",
        "    prices.reset_index(inplace=True)\n",
        "    return prices\n",
        "\n",
        "def get_funds_info(url):\n",
        "    info = pd.read_csv(info_url)\n",
        "    return info"
      ],
      "execution_count": 36,
      "outputs": []
    },
    {
      "cell_type": "code",
      "metadata": {
        "id": "nmnnx1pVQBvb"
      },
      "source": [
        "trnx = get_transactions(trnx_url)\n",
        "prices = get_prices(prices_url)\n",
        "info = get_funds_info(info_url)"
      ],
      "execution_count": 37,
      "outputs": []
    },
    {
      "cell_type": "code",
      "metadata": {
        "colab": {
          "base_uri": "https://localhost:8080/",
          "height": 419
        },
        "id": "mj1xEIfc0hxx",
        "outputId": "3f64d696-d6d9-4f06-b837-b7e625d026d9"
      },
      "source": [
        "prices"
      ],
      "execution_count": 38,
      "outputs": [
        {
          "output_type": "execute_result",
          "data": {
            "text/html": [
              "<div>\n",
              "<style scoped>\n",
              "    .dataframe tbody tr th:only-of-type {\n",
              "        vertical-align: middle;\n",
              "    }\n",
              "\n",
              "    .dataframe tbody tr th {\n",
              "        vertical-align: top;\n",
              "    }\n",
              "\n",
              "    .dataframe thead th {\n",
              "        text-align: right;\n",
              "    }\n",
              "</style>\n",
              "<table border=\"1\" class=\"dataframe\">\n",
              "  <thead>\n",
              "    <tr style=\"text-align: right;\">\n",
              "      <th></th>\n",
              "      <th>index</th>\n",
              "      <th>Date</th>\n",
              "      <th>FundISIN</th>\n",
              "      <th>FundNAV</th>\n",
              "    </tr>\n",
              "  </thead>\n",
              "  <tbody>\n",
              "    <tr>\n",
              "      <th>0</th>\n",
              "      <td>8603</td>\n",
              "      <td>2000-06-30</td>\n",
              "      <td>LU0106817157</td>\n",
              "      <td>9.1296</td>\n",
              "    </tr>\n",
              "    <tr>\n",
              "      <th>1</th>\n",
              "      <td>8602</td>\n",
              "      <td>2000-07-03</td>\n",
              "      <td>LU0106817157</td>\n",
              "      <td>9.2596</td>\n",
              "    </tr>\n",
              "    <tr>\n",
              "      <th>2</th>\n",
              "      <td>8601</td>\n",
              "      <td>2000-07-04</td>\n",
              "      <td>LU0106817157</td>\n",
              "      <td>9.3414</td>\n",
              "    </tr>\n",
              "    <tr>\n",
              "      <th>3</th>\n",
              "      <td>8600</td>\n",
              "      <td>2000-07-05</td>\n",
              "      <td>LU0106817157</td>\n",
              "      <td>9.2565</td>\n",
              "    </tr>\n",
              "    <tr>\n",
              "      <th>4</th>\n",
              "      <td>8599</td>\n",
              "      <td>2000-07-06</td>\n",
              "      <td>LU0106817157</td>\n",
              "      <td>9.2791</td>\n",
              "    </tr>\n",
              "    <tr>\n",
              "      <th>...</th>\n",
              "      <td>...</td>\n",
              "      <td>...</td>\n",
              "      <td>...</td>\n",
              "      <td>...</td>\n",
              "    </tr>\n",
              "    <tr>\n",
              "      <th>68271</th>\n",
              "      <td>17412</td>\n",
              "      <td>2021-05-19</td>\n",
              "      <td>LU1983299246</td>\n",
              "      <td>163.2020</td>\n",
              "    </tr>\n",
              "    <tr>\n",
              "      <th>68272</th>\n",
              "      <td>17411</td>\n",
              "      <td>2021-05-20</td>\n",
              "      <td>LU1983299246</td>\n",
              "      <td>165.1040</td>\n",
              "    </tr>\n",
              "    <tr>\n",
              "      <th>68273</th>\n",
              "      <td>17410</td>\n",
              "      <td>2021-05-21</td>\n",
              "      <td>LU1983299246</td>\n",
              "      <td>168.1748</td>\n",
              "    </tr>\n",
              "    <tr>\n",
              "      <th>68274</th>\n",
              "      <td>17409</td>\n",
              "      <td>2021-05-24</td>\n",
              "      <td>LU1983299246</td>\n",
              "      <td>168.5143</td>\n",
              "    </tr>\n",
              "    <tr>\n",
              "      <th>68275</th>\n",
              "      <td>17408</td>\n",
              "      <td>2021-05-25</td>\n",
              "      <td>LU1983299246</td>\n",
              "      <td>168.7500</td>\n",
              "    </tr>\n",
              "  </tbody>\n",
              "</table>\n",
              "<p>68276 rows × 4 columns</p>\n",
              "</div>"
            ],
            "text/plain": [
              "       index       Date      FundISIN   FundNAV\n",
              "0       8603 2000-06-30  LU0106817157    9.1296\n",
              "1       8602 2000-07-03  LU0106817157    9.2596\n",
              "2       8601 2000-07-04  LU0106817157    9.3414\n",
              "3       8600 2000-07-05  LU0106817157    9.2565\n",
              "4       8599 2000-07-06  LU0106817157    9.2791\n",
              "...      ...        ...           ...       ...\n",
              "68271  17412 2021-05-19  LU1983299246  163.2020\n",
              "68272  17411 2021-05-20  LU1983299246  165.1040\n",
              "68273  17410 2021-05-21  LU1983299246  168.1748\n",
              "68274  17409 2021-05-24  LU1983299246  168.5143\n",
              "68275  17408 2021-05-25  LU1983299246  168.7500\n",
              "\n",
              "[68276 rows x 4 columns]"
            ]
          },
          "metadata": {
            "tags": []
          },
          "execution_count": 38
        }
      ]
    },
    {
      "cell_type": "markdown",
      "metadata": {
        "id": "wFCsEUqLUotQ"
      },
      "source": [
        "Functions to compute financial quantities"
      ]
    },
    {
      "cell_type": "code",
      "metadata": {
        "id": "ju69U2CY-o32"
      },
      "source": [
        "def daily_returns(data):\n",
        "    \"\"\"Returns DataFrame with daily returns (percentage change)\n",
        "    :math:`\\\\displaystyle R = \\\\dfrac{\\\\text{price}_{t_i} - \\\\text{price}_{t_{i-1}}}{\\\\text{price}_{t_{i-1}}}`\n",
        "    :Input:\n",
        "     :data: ``pandas.DataFrame`` with daily stock prices\n",
        "    :Output:\n",
        "     :ret: a ``pandas.DataFrame`` of daily percentage change of Returns\n",
        "         of given stock prices.\n",
        "    \"\"\"\n",
        "    return data.pct_change().dropna(how=\"all\").replace([np.inf, -np.inf], np.nan)\n",
        "\n",
        "def cumulative_returns(data, dividend=0):\n",
        "    \"\"\"Returns DataFrame with cumulative returns\n",
        "    :math:`\\\\displaystyle R = \\\\dfrac{\\\\text{price}_{t_i} - \\\\text{price}_{t_0} + \\\\text{dividend}}{\\\\text{price}_{t_0}}`\n",
        "    :Input:\n",
        "     :data: ``pandas.DataFrame`` with daily stock prices\n",
        "     :dividend: ``float`` (default= ``0``), paid dividend\n",
        "    :Output:\n",
        "     :ret: a ``pandas.DataFrame`` of cumulative Returns of given stock prices.\n",
        "    \"\"\"\n",
        "    if isinstance(data, pd.Series):\n",
        "        data = pd.DataFrame(data)\n",
        "    return data.dropna(axis=0, how=\"any\").apply(lambda x: (x - x[0] + dividend) / x[0])\n",
        "\n",
        "def cumulative_returns_v2(data):\n",
        "    pass"
      ],
      "execution_count": 41,
      "outputs": []
    },
    {
      "cell_type": "code",
      "metadata": {
        "id": "7kr0RDnd8c52"
      },
      "source": [
        "portfolio_dict = {\n",
        "    user:{\n",
        "        portfolio:{\n",
        "            'transactions':trnx[trnx['FundPortfolio']==portfolio], \n",
        "            'prices':prices[prices['FundISIN']==isin], \n",
        "            'info':info[info['FundISIN']==isin]\n",
        "            } \n",
        "          for portfolio in trnx['FundPortfolio'].unique() \n",
        "          for isin in trnx['FundISIN'].unique()\n",
        "          } \n",
        "          for user in trnx['CustomerID'].unique()\n",
        "          }\n"
      ],
      "execution_count": 42,
      "outputs": []
    },
    {
      "cell_type": "code",
      "metadata": {
        "colab": {
          "base_uri": "https://localhost:8080/",
          "height": 483
        },
        "id": "EQbhTpzG-L1o",
        "outputId": "43540e8e-fa06-4073-c811-2ca460e27b15"
      },
      "source": [
        "df = portfolio_dict['Admin']['PopularPortfolio_03']['prices']\n",
        "df.sort_index(inplace=True)\n",
        "ax = ((1+df['FundNAV'].pct_change()).cumprod()-1).plot(figsize=(12,8), legend=True)"
      ],
      "execution_count": 45,
      "outputs": [
        {
          "output_type": "display_data",
          "data": {
            "image/png": "[encoded data removed]",
            "text/plain": [
              "<Figure size 864x576 with 1 Axes>"
            ]
          },
          "metadata": {
            "tags": [],
            "needs_background": "light"
          }
        }
      ]
    },
    {
      "cell_type": "code",
      "metadata": {
        "id": "-JcHmWuRWVVL"
      },
      "source": [
        ""
      ],
      "execution_count": null,
      "outputs": []
    }
  ]
}