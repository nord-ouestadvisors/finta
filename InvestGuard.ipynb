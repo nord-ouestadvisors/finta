{
  "nbformat": 4,
  "nbformat_minor": 0,
  "metadata": {
    "colab": {
      "name": "InvestGuard.ipynb",
      "provenance": [],
      "collapsed_sections": [],
      "authorship_tag": "ABX9TyNy5lT+Hmc19HG3/j5efEtH",
      "include_colab_link": true
    },
    "kernelspec": {
      "name": "python3",
      "display_name": "Python 3"
    },
    "language_info": {
      "name": "python"
    }
  },
  "cells": [
    {
      "cell_type": "markdown",
      "metadata": {
        "id": "view-in-github",
        "colab_type": "text"
      },
      "source": [
        "<a href=\"https://colab.research.google.com/github/nord-ouestadvisors/finta/blob/master/InvestGuard.ipynb\" target=\"_parent\"><img src=\"https://colab.research.google.com/assets/colab-badge.svg\" alt=\"Open In Colab\"/></a>"
      ]
    },
    {
      "cell_type": "code",
      "metadata": {
        "id": "L0sF3apfTpXw"
      },
      "source": [
        "import pandas as pd\n",
        "import numpy as np\n",
        "import matplotlib.pyplot as plt\n",
        "import datetime"
      ],
      "execution_count": 2,
      "outputs": []
    },
    {
      "cell_type": "code",
      "metadata": {
        "id": "Xuo-aQFvWZoW"
      },
      "source": [
        "trnx_url = 'https://raw.githubusercontent.com/Nord-ouest-Advisors/InvestGuard/main/data/SampleTransactions.csv?token=ATIZFFUXOULHEXVCG5VTDK3AYTMX4'\n",
        "prices_url = 'https://raw.githubusercontent.com/Nord-ouest-Advisors/InvestGuard/main/data/Prices.csv?token=ATIZFFRCZCTBXBLXDKUQXTTAYTM2E'\n",
        "info_url = 'https://raw.githubusercontent.com/Nord-ouest-Advisors/InvestGuard/main/data/FundsInfo.csv'"
      ],
      "execution_count": 3,
      "outputs": []
    },
    {
      "cell_type": "code",
      "metadata": {
        "id": "0BYs-sos8Wq3"
      },
      "source": [
        "def get_transactions(url):\n",
        "    trnx = pd.read_csv(url)\n",
        "    trnx['InstructionDate'] = pd.to_datetime(trnx['InstructionDate'])\n",
        "    trnx.sort_values(by=['FundPortfolio','InstructionDate'], inplace=True)\n",
        "    return trnx\n",
        "\n",
        "def get_prices(url):\n",
        "    prices = pd.read_csv(url)\n",
        "    prices['Date'] = pd.to_datetime(prices['Date'])\n",
        "    prices.sort_values(by=['FundISIN', 'Date'], inplace=True)\n",
        "    return prices\n",
        "\n",
        "def get_funds_info(url):\n",
        "    info = pd.read_csv(info_url)\n",
        "    return info"
      ],
      "execution_count": 29,
      "outputs": []
    },
    {
      "cell_type": "code",
      "metadata": {
        "id": "nmnnx1pVQBvb"
      },
      "source": [
        "trnx = get_transactions(trnx_url)\n",
        "prices = get_prices(prices_url)\n",
        "info = get_funds_info(info_url)"
      ],
      "execution_count": 30,
      "outputs": []
    },
    {
      "cell_type": "code",
      "metadata": {
        "colab": {
          "base_uri": "https://localhost:8080/"
        },
        "id": "mj1xEIfc0hxx",
        "outputId": "87498da3-b807-452c-fea3-d5ef49bd941d"
      },
      "source": [
        "prices.info()"
      ],
      "execution_count": 31,
      "outputs": [
        {
          "output_type": "stream",
          "text": [
            "<class 'pandas.core.frame.DataFrame'>\n",
            "Int64Index: 68276 entries, 8603 to 17408\n",
            "Data columns (total 3 columns):\n",
            " #   Column    Non-Null Count  Dtype         \n",
            "---  ------    --------------  -----         \n",
            " 0   Date      68276 non-null  datetime64[ns]\n",
            " 1   FundISIN  68276 non-null  object        \n",
            " 2   FundNAV   68276 non-null  float64       \n",
            "dtypes: datetime64[ns](1), float64(1), object(1)\n",
            "memory usage: 2.1+ MB\n"
          ],
          "name": "stdout"
        }
      ]
    },
    {
      "cell_type": "code",
      "metadata": {
        "id": "7kr0RDnd8c52"
      },
      "source": [
        "portfolio_dict = {\n",
        "    user:{\n",
        "        portfolio:{\n",
        "            'transactions':trnx[trnx['FundPortfolio']==portfolio], \n",
        "            'prices':prices[prices['FundISIN']==isin], \n",
        "            'info':info[info['FundISIN']==isin]\n",
        "            } \n",
        "          for portfolio in trnx['FundPortfolio'].unique() \n",
        "          for isin in trnx['FundISIN'].unique()\n",
        "          } \n",
        "          for user in trnx['CustomerID'].unique()\n",
        "          }\n"
      ],
      "execution_count": 6,
      "outputs": []
    },
    {
      "cell_type": "code",
      "metadata": {
        "colab": {
          "base_uri": "https://localhost:8080/",
          "height": 215
        },
        "id": "EQbhTpzG-L1o",
        "outputId": "9d281d9c-6548-4105-d823-22ae2e6b4918"
      },
      "source": [
        "df = portfolio_dict['Admin']['PopularPortfolio_03']['prices']\n",
        "df.sort_index(inplace=True)\n",
        "ax = ((1+df['FundNAV'].pct_change()).cumprod()-1).plot(figsize=(12,8), legend=True)\n",
        "cumulative_returns(df['FundNAV']).plot(ax=ax, legend=True, secondary_y=True)"
      ],
      "execution_count": 1,
      "outputs": [
        {
          "output_type": "error",
          "ename": "NameError",
          "evalue": "ignored",
          "traceback": [
            "\u001b[0;31m---------------------------------------------------------------------------\u001b[0m",
            "\u001b[0;31mNameError\u001b[0m                                 Traceback (most recent call last)",
            "\u001b[0;32m<ipython-input-1-83e12284ecd3>\u001b[0m in \u001b[0;36m<module>\u001b[0;34m()\u001b[0m\n\u001b[0;32m----> 1\u001b[0;31m \u001b[0mdf\u001b[0m \u001b[0;34m=\u001b[0m \u001b[0mportfolio_dict\u001b[0m\u001b[0;34m[\u001b[0m\u001b[0;34m'Admin'\u001b[0m\u001b[0;34m]\u001b[0m\u001b[0;34m[\u001b[0m\u001b[0;34m'PopularPortfolio_03'\u001b[0m\u001b[0;34m]\u001b[0m\u001b[0;34m[\u001b[0m\u001b[0;34m'prices'\u001b[0m\u001b[0;34m]\u001b[0m\u001b[0;34m\u001b[0m\u001b[0;34m\u001b[0m\u001b[0m\n\u001b[0m\u001b[1;32m      2\u001b[0m \u001b[0mdf\u001b[0m\u001b[0;34m.\u001b[0m\u001b[0msort_index\u001b[0m\u001b[0;34m(\u001b[0m\u001b[0minplace\u001b[0m\u001b[0;34m=\u001b[0m\u001b[0;32mTrue\u001b[0m\u001b[0;34m)\u001b[0m\u001b[0;34m\u001b[0m\u001b[0;34m\u001b[0m\u001b[0m\n\u001b[1;32m      3\u001b[0m \u001b[0max\u001b[0m \u001b[0;34m=\u001b[0m \u001b[0;34m(\u001b[0m\u001b[0;34m(\u001b[0m\u001b[0;36m1\u001b[0m\u001b[0;34m+\u001b[0m\u001b[0mdf\u001b[0m\u001b[0;34m[\u001b[0m\u001b[0;34m'FundNAV'\u001b[0m\u001b[0;34m]\u001b[0m\u001b[0;34m.\u001b[0m\u001b[0mpct_change\u001b[0m\u001b[0;34m(\u001b[0m\u001b[0;34m)\u001b[0m\u001b[0;34m)\u001b[0m\u001b[0;34m.\u001b[0m\u001b[0mcumprod\u001b[0m\u001b[0;34m(\u001b[0m\u001b[0;34m)\u001b[0m\u001b[0;34m-\u001b[0m\u001b[0;36m1\u001b[0m\u001b[0;34m)\u001b[0m\u001b[0;34m.\u001b[0m\u001b[0mplot\u001b[0m\u001b[0;34m(\u001b[0m\u001b[0mfigsize\u001b[0m\u001b[0;34m=\u001b[0m\u001b[0;34m(\u001b[0m\u001b[0;36m12\u001b[0m\u001b[0;34m,\u001b[0m\u001b[0;36m8\u001b[0m\u001b[0;34m)\u001b[0m\u001b[0;34m,\u001b[0m \u001b[0mlegend\u001b[0m\u001b[0;34m=\u001b[0m\u001b[0;32mTrue\u001b[0m\u001b[0;34m)\u001b[0m\u001b[0;34m\u001b[0m\u001b[0;34m\u001b[0m\u001b[0m\n\u001b[1;32m      4\u001b[0m \u001b[0mcumulative_returns\u001b[0m\u001b[0;34m(\u001b[0m\u001b[0mdf\u001b[0m\u001b[0;34m[\u001b[0m\u001b[0;34m'FundNAV'\u001b[0m\u001b[0;34m]\u001b[0m\u001b[0;34m)\u001b[0m\u001b[0;34m.\u001b[0m\u001b[0mplot\u001b[0m\u001b[0;34m(\u001b[0m\u001b[0max\u001b[0m\u001b[0;34m=\u001b[0m\u001b[0max\u001b[0m\u001b[0;34m,\u001b[0m \u001b[0mlegend\u001b[0m\u001b[0;34m=\u001b[0m\u001b[0;32mTrue\u001b[0m\u001b[0;34m,\u001b[0m \u001b[0msecondary_y\u001b[0m\u001b[0;34m=\u001b[0m\u001b[0;32mTrue\u001b[0m\u001b[0;34m)\u001b[0m\u001b[0;34m\u001b[0m\u001b[0;34m\u001b[0m\u001b[0m\n",
            "\u001b[0;31mNameError\u001b[0m: name 'portfolio_dict' is not defined"
          ]
        }
      ]
    },
    {
      "cell_type": "markdown",
      "metadata": {
        "id": "wFCsEUqLUotQ"
      },
      "source": [
        "Functions to compute financial quantities"
      ]
    },
    {
      "cell_type": "code",
      "metadata": {
        "id": "ju69U2CY-o32"
      },
      "source": [
        "def daily_returns(data):\n",
        "    \"\"\"Returns DataFrame with daily returns (percentage change)\n",
        "    :math:`\\\\displaystyle R = \\\\dfrac{\\\\text{price}_{t_i} - \\\\text{price}_{t_{i-1}}}{\\\\text{price}_{t_{i-1}}}`\n",
        "    :Input:\n",
        "     :data: ``pandas.DataFrame`` with daily stock prices\n",
        "    :Output:\n",
        "     :ret: a ``pandas.DataFrame`` of daily percentage change of Returns\n",
        "         of given stock prices.\n",
        "    \"\"\"\n",
        "    return data.pct_change().dropna(how=\"all\").replace([np.inf, -np.inf], np.nan)\n",
        "\n",
        "def cumulative_returns(data, dividend=0):\n",
        "    \"\"\"Returns DataFrame with cumulative returns\n",
        "    :math:`\\\\displaystyle R = \\\\dfrac{\\\\text{price}_{t_i} - \\\\text{price}_{t_0} + \\\\text{dividend}}{\\\\text{price}_{t_0}}`\n",
        "    :Input:\n",
        "     :data: ``pandas.DataFrame`` with daily stock prices\n",
        "     :dividend: ``float`` (default= ``0``), paid dividend\n",
        "    :Output:\n",
        "     :ret: a ``pandas.DataFrame`` of cumulative Returns of given stock prices.\n",
        "    \"\"\"\n",
        "    if isinstance(data, pd.Series):\n",
        "        data = pd.DataFrame(data)\n",
        "    return data.dropna(axis=0, how=\"any\").apply(lambda x: (x - x[0] + dividend) / x[0])\n",
        "\n",
        "def cumulative_returns_v2(data):\n",
        "    pass"
      ],
      "execution_count": 8,
      "outputs": []
    },
    {
      "cell_type": "code",
      "metadata": {
        "id": "-JcHmWuRWVVL"
      },
      "source": [
        ""
      ],
      "execution_count": null,
      "outputs": []
    }
  ]
}